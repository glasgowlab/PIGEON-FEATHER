{
 "cells": [
  {
   "cell_type": "markdown",
   "metadata": {},
   "source": [
    "# 02_peptide_level_analysis"
   ]
  },
  {
   "cell_type": "markdown",
   "metadata": {},
   "source": [
    "## uptake plots"
   ]
  },
  {
   "cell_type": "code",
   "execution_count": null,
   "metadata": {},
   "outputs": [],
   "source": [
    "# option 1\n",
    "\n",
    "all_peps = [peptide for hdxms_data in hdxms_data_list for state in hdxms_data.states for peptide in state.peptides]\n",
    "all_idfs = set([peptide.identifier for peptide in all_peps])\n",
    "\n",
    "output_path = 'output'\n",
    "\n",
    "if not os.path.exists(output_path):\n",
    "    os.makedirs(output_path)\n",
    "else:\n",
    "    shutil.rmtree(output_path)\n",
    "    os.makedirs(output_path)\n",
    "    \n",
    "    \n",
    "for idf in all_idfs:\n",
    "    uptake = UptakePlot(hdxms_data_list, idf)\n",
    "    fig = uptake.uptakeplot\n",
    "    fig.savefig(f\"{output_path}/{idf}.png\")"
   ]
  },
  {
   "cell_type": "code",
   "execution_count": null,
   "metadata": {},
   "outputs": [],
   "source": [
    "# option 2, using the collection object\n",
    "\n",
    "uptakes = UptakePlotsCollection(if_plot_fit=True)\n",
    "uptakes.add_plot_all(hdxms_data_list)\n",
    "# # save all the plots\n",
    "# uptakes.save_plots('/tmp/test')"
   ]
  },
  {
   "cell_type": "markdown",
   "metadata": {},
   "source": [
    "In option 2, the peptides that have high std across different experimental replicates will be automatically excluded"
   ]
  },
  {
   "cell_type": "markdown",
   "metadata": {},
   "source": [
    "## pipetide comparison"
   ]
  },
  {
   "cell_type": "markdown",
   "metadata": {},
   "source": [
    "`HDXStatePeptideCompares` can be created between two different states for comparison. It is a collection of all possible `HDXStatePeptideCompare`, where the same peptides are in both Proteinstate. HDXStatePeptideCompare\n",
    "will find all the common timepoints and get the difference in D uptake. "
   ]
  },
  {
   "cell_type": "code",
   "execution_count": null,
   "metadata": {},
   "outputs": [],
   "source": [
    "state1 = 'APO'\n",
    "state2 = 'RIB'\n",
    "\n",
    "# first get the states\n",
    "state1_list = [i.get_state(state1) for i in hdxms_data_list]\n",
    "state2_list = [i.get_state(state2) for i in hdxms_data_list]\n",
    "\n",
    "pep_compres = HDXStatePeptideCompares(state1_list, state2_list)\n",
    "pep_compres.add_all_compare()"
   ]
  },
  {
   "cell_type": "code",
   "execution_count": null,
   "metadata": {},
   "outputs": [],
   "source": [
    "# check the results\n",
    "for i in pep_compres.peptide_compares[:10]:\n",
    "    print('-----------------')\n",
    "    print(i.compare_info)\n",
    "    print(i.common_timepoints)\n",
    "    print(i.deut_diff)\n",
    "    "
   ]
  },
  {
   "cell_type": "markdown",
   "metadata": {},
   "source": [
    "## pseudo residue compare"
   ]
  },
  {
   "cell_type": "markdown",
   "metadata": {},
   "source": [
    "pseudo residue compare is a comparison of the average D uptake between two different `Proteinstate` of all the peptides that cover this residue. D here is the normalized values based on the full-D experiments (0-100)"
   ]
  },
  {
   "cell_type": "code",
   "execution_count": 2,
   "metadata": {},
   "outputs": [
    {
     "ename": "NameError",
     "evalue": "name 'HDXStateResidueCompares' is not defined",
     "output_type": "error",
     "traceback": [
      "\u001b[0;31m---------------------------------------------------------------------------\u001b[0m",
      "\u001b[0;31mNameError\u001b[0m                                 Traceback (most recent call last)",
      "Cell \u001b[0;32mIn[2], line 1\u001b[0m\n\u001b[0;32m----> 1\u001b[0m res_compares \u001b[38;5;241m=\u001b[39m \u001b[43mHDXStateResidueCompares\u001b[49m([i \u001b[38;5;28;01mfor\u001b[39;00m i \u001b[38;5;129;01min\u001b[39;00m \u001b[38;5;28mrange\u001b[39m(\u001b[38;5;241m1\u001b[39m, \u001b[38;5;241m320\u001b[39m)], state1_list, state2_list)\n\u001b[1;32m      2\u001b[0m res_compares\u001b[38;5;241m.\u001b[39madd_all_compare()\n",
      "\u001b[0;31mNameError\u001b[0m: name 'HDXStateResidueCompares' is not defined"
     ]
    }
   ],
   "source": [
    "res_compares = HDXStateResidueCompares([i for i in range(1, 320)], state1_list, state2_list)\n",
    "res_compares.add_all_compare()"
   ]
  },
  {
   "cell_type": "code",
   "execution_count": null,
   "metadata": {},
   "outputs": [],
   "source": [
    "# check the results\n",
    "# deut_diff is the average deuteration difference of all peptides covering the residue\n",
    "for i in res_compares.residue_compares[:5]:\n",
    "    print('-----------------')\n",
    "    print(i.compare_info)\n",
    "    print(i.common_timepoints)\n",
    "    print(i.deut_diff)\n",
    "    "
   ]
  },
  {
   "cell_type": "markdown",
   "metadata": {},
   "source": [
    "# Visualization on pymol structure"
   ]
  },
  {
   "cell_type": "markdown",
   "metadata": {},
   "source": [
    "Both comparison objects can be projected to a pdb structure for Visualization"
   ]
  },
  {
   "cell_type": "code",
   "execution_count": null,
   "metadata": {},
   "outputs": [],
   "source": [
    "# both of the compare objects can be exported as a pymol pse file for visualization\n",
    "pdb_file = 'data/2dri.pdb'\n",
    "\n",
    "create_compare_pymol_plot(pep_compres, colorbar_max=20, pdb_file=pdb_file, path=f'{output_path}')\n",
    "create_compare_pymol_plot(res_compares, colorbar_max=20, pdb_file=pdb_file, path=f'{output_path}')"
   ]
  },
  {
   "cell_type": "code",
   "execution_count": null,
   "metadata": {},
   "outputs": [],
   "source": [
    "#  it can be visualized as a heatmap\n",
    "create_heatmap_compare_tp(pep_compres, 20)"
   ]
  },
  {
   "cell_type": "code",
   "execution_count": null,
   "metadata": {},
   "outputs": [],
   "source": [
    "# make all the plots and save them\n",
    "\n",
    "from itertools import product\n",
    "\n",
    "items =[state.state_name for state in hdxms_data.states]\n",
    "combinations = product(['APO'], [x for x in items if x != 'APO'])\n",
    "\n",
    "\n",
    "OUTDIR = output_path\n",
    "if not os.path.exists(OUTDIR):\n",
    "    os.makedirs(OUTDIR)\n",
    "\n",
    "for state1_name, state2_name in combinations:\n",
    "\n",
    "    state1_list = [i.get_state(state1_name) for i in hdxms_data_list]\n",
    "    state2_list = [i.get_state(state2_name) for i in hdxms_data_list]\n",
    "\n",
    "    compare = HDXStatePeptideCompares(state1_list, state2_list)\n",
    "    compare.add_all_compare()\n",
    "\n",
    "    heatmap_compare_tp = create_heatmap_compare_tp(compare, 20)\n",
    "    heatmap_compare_tp.savefig(f'{OUTDIR}/{state1}-{state2}-heatmap-tp.png')\n",
    "\n",
    "    heatmap_compare = create_heatmap_compare(compare, 20)\n",
    "    heatmap_compare.savefig(f'{OUTDIR}/{state1}-{state2}-heatmap.png')\n",
    "\n",
    "    create_compare_pymol_plot(compare, colorbar_max=20, pdb_file=pdb_file, path=OUTDIR)\n",
    "\n",
    "\n",
    "\n",
    "    res_compares = HDXStateResidueCompares([i for i in range(1, 320)], state1_list, state2_list)\n",
    "    res_compares.add_all_compare()\n",
    "\n",
    "    create_compare_pymol_plot(res_compares, 20, pdb_file=pdb_file, path=OUTDIR)"
   ]
  }
 ],
 "metadata": {
  "kernelspec": {
   "display_name": "Python 3",
   "language": "python",
   "name": "python3"
  },
  "language_info": {
   "codemirror_mode": {
    "name": "ipython",
    "version": 3
   },
   "file_extension": ".py",
   "mimetype": "text/x-python",
   "name": "python",
   "nbconvert_exporter": "python",
   "pygments_lexer": "ipython3",
   "version": "3.12.2"
  }
 },
 "nbformat": 4,
 "nbformat_minor": 2
}

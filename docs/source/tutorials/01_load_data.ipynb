{
 "cells": [
  {
   "cell_type": "markdown",
   "metadata": {},
   "source": [
    "# 01_load_data"
   ]
  },
  {
   "cell_type": "markdown",
   "metadata": {},
   "source": [
    "In principle, FEATHER can accept the output of any HDS/MS software, but currently only supports the output of HDExaminer. In future versions, we will add support for common software including HDX Workbech, ..\n",
    "\n",
    "There are two types of input files:\n",
    "1. peptide pools along with centroid deuteration values\n",
    "2. raw mass spectra (deconvoluted ones)\n"
   ]
  },
  {
   "cell_type": "markdown",
   "metadata": {},
   "source": [
    "## read centroids data only"
   ]
  },
  {
   "cell_type": "markdown",
   "metadata": {},
   "source": [
    "* table is the peptide pool\n",
    "* range list is a file that defines the peptide list to include or exclude\n",
    "* n_fastamides, in an HDX experiment first two residues of a peptide at N-ter do not contribute to the D uptake due to the fast back exchange\n",
    "* saturation is the D% of D2O buffer"
   ]
  },
  {
   "cell_type": "code",
   "execution_count": 1,
   "metadata": {},
   "outputs": [],
   "source": [
    "# read centroids data only\n",
    "\n",
    "tables = [\n",
    "    \"./data/10-25_rbsb_pool_results-CLEANED-100.csv\",\n",
    "    \"./data/10-18-RbsB_peptide_pool_results-CLEAN-100.csv\",\n",
    "]\n",
    "\n",
    "ranges = [\n",
    "    \"./data/rangeslist-10-25-select-cleaned.csv\",\n",
    "    \"./data/rangeslist-10-18-select-cleaned.csv\",\n",
    "]\n",
    "\n",
    "\n",
    "protein_sequence = \"MNMKKLATLVSAVALSATVSANAMAKDTIALVVSTLNNPFFVSLKDGAQKEADKLGYNLVVLDSQNNPAKELANVQDLTVRGTKILLINPTDSDAVGNAVKMANQANIPVITLDRQATKGEVVSHIASDNVLGGKIAGDYIAKKAGEGAKVIELQGIAGTSAARERGEGFQQAVAAHKFNVLASQPADFDRIKGLNVMQNLLTAHPDVQAVFAQNDEMALGALRALQTAGKSDVMVVGFDGTPDGEKAVNDGKLAATIAQLPDQIGAKGVETADKVLKGEKVQAKYPVDLKLVVKQ\"\n",
    "\n",
    "\n",
    "# load the data\n",
    "hdxms_data_list = []\n",
    "for i in range(2):\n",
    "    # for i in range(1):\n",
    "\n",
    "    print(tables[i])\n",
    "    cleaned = read_hdx_tables([tables[i]], [ranges[i]], exclude=False)\n",
    "    hdxms_data = load_dataframe_to_hdxmsdata(\n",
    "        cleaned, n_fastamides=2, protein_sequence=protein_sequence, saturation=0.9\n",
    "    )\n",
    "\n",
    "    hdxms_data_list.append(hdxms_data)\n"
   ]
  },
  {
   "cell_type": "markdown",
   "metadata": {},
   "source": [
    "## load the raw spectrum"
   ]
  },
  {
   "cell_type": "code",
   "execution_count": 3,
   "metadata": {},
   "outputs": [
    {
     "ename": "NameError",
     "evalue": "name 'load_raw_ms_to_hdxms_data' is not defined",
     "output_type": "error",
     "traceback": [
      "\u001b[0;31m---------------------------------------------------------------------------\u001b[0m",
      "\u001b[0;31mNameError\u001b[0m                                 Traceback (most recent call last)",
      "Cell \u001b[0;32mIn[3], line 3\u001b[0m\n\u001b[1;32m      1\u001b[0m \u001b[38;5;66;03m# spectrum could be easily loaded to the hdxms_data object\u001b[39;00m\n\u001b[1;32m      2\u001b[0m \u001b[38;5;28;01mfor\u001b[39;00m i \u001b[38;5;129;01min\u001b[39;00m \u001b[38;5;28mrange\u001b[39m(\u001b[38;5;241m2\u001b[39m):\n\u001b[0;32m----> 3\u001b[0m     \u001b[43mload_raw_ms_to_hdxms_data\u001b[49m(hdxms_data,raw_spectra_paths[i],)\n",
      "\u001b[0;31mNameError\u001b[0m: name 'load_raw_ms_to_hdxms_data' is not defined"
     ]
    }
   ],
   "source": [
    "# spectrum could be easily loaded to the hdxms_data object\n",
    "for i in range(2):\n",
    "    load_raw_ms_to_hdxms_data(\n",
    "        hdxms_data,\n",
    "        raw_spectra_paths[i],\n",
    "    )"
   ]
  },
  {
   "cell_type": "code",
   "execution_count": null,
   "metadata": {},
   "outputs": [],
   "source": []
  }
 ],
 "metadata": {
  "kernelspec": {
   "display_name": "Python 3",
   "language": "python",
   "name": "python3"
  },
  "language_info": {
   "codemirror_mode": {
    "name": "ipython",
    "version": 3
   },
   "file_extension": ".py",
   "mimetype": "text/x-python",
   "name": "python",
   "nbconvert_exporter": "python",
   "pygments_lexer": "ipython3",
   "version": "3.12.2"
  }
 },
 "nbformat": 4,
 "nbformat_minor": 2
}
